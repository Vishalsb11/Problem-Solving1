{
  "nbformat": 4,
  "nbformat_minor": 0,
  "metadata": {
    "colab": {
      "provenance": [],
      "authorship_tag": "ABX9TyMFzcNqLU3zT+zhMSVo6Lj+",
      "include_colab_link": true
    },
    "kernelspec": {
      "name": "python3",
      "display_name": "Python 3"
    },
    "language_info": {
      "name": "python"
    }
  },
  "cells": [
    {
      "cell_type": "markdown",
      "metadata": {
        "id": "view-in-github",
        "colab_type": "text"
      },
      "source": [
        "<a href=\"https://colab.research.google.com/github/Vishalsb11/Problem-Solving1/blob/main/PythonBasics.ipynb\" target=\"_parent\"><img src=\"https://colab.research.google.com/assets/colab-badge.svg\" alt=\"Open In Colab\"/></a>"
      ]
    },
    {
      "cell_type": "markdown",
      "source": [
        "DIFFERENT WAYS TO REVERSE A STRING"
      ],
      "metadata": {
        "id": "DU5WrRmgUhMz"
      }
    },
    {
      "cell_type": "code",
      "source": [
        "!git clone https://github.com/Vishalsb11/PythonCoding.git"
      ],
      "metadata": {
        "colab": {
          "base_uri": "https://localhost:8080/"
        },
        "id": "wDlo6gkLVna2",
        "outputId": "8db8478a-f70c-47e7-c3cd-c9bceb49ea77"
      },
      "execution_count": 2,
      "outputs": [
        {
          "output_type": "stream",
          "name": "stdout",
          "text": [
            "Cloning into 'PythonCoding'...\n",
            "fatal: could not read Username for 'https://github.com': No such device or address\n"
          ]
        }
      ]
    },
    {
      "cell_type": "code",
      "source": [],
      "metadata": {
        "id": "liQUsM10XIhm"
      },
      "execution_count": null,
      "outputs": []
    },
    {
      "cell_type": "markdown",
      "source": [
        "TYPE 1 : Using Slicing"
      ],
      "metadata": {
        "id": "vWmXfJBEUvXg"
      }
    },
    {
      "cell_type": "code",
      "source": [
        "def reverse_slicing(str):\n",
        "  return str[::-1]\n",
        "\n",
        "_str = \"Hello, World!\"\n",
        "reversed_str = reverse_slicing(_str)\n",
        "print(reversed_str)\n",
        "\n"
      ],
      "metadata": {
        "id": "o5Ei5pwucyzu",
        "colab": {
          "base_uri": "https://localhost:8080/"
        },
        "outputId": "5b47be7a-5be2-4dfe-e7ee-40ebb1bd6c38"
      },
      "execution_count": 1,
      "outputs": [
        {
          "output_type": "stream",
          "name": "stdout",
          "text": [
            "!dlroW ,olleH\n"
          ]
        }
      ]
    },
    {
      "cell_type": "code",
      "source": [
        "\n"
      ],
      "metadata": {
        "id": "3MANM3WBfWh8"
      },
      "execution_count": null,
      "outputs": []
    },
    {
      "cell_type": "code",
      "source": [],
      "metadata": {
        "id": "Xw_BQcxsfsBd"
      },
      "execution_count": null,
      "outputs": []
    }
  ]
}